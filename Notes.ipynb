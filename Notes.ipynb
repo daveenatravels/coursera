{
 "cells": [
  {
   "cell_type": "markdown",
   "metadata": {},
   "source": [
    "Module 1"
   ]
  },
  {
   "cell_type": "markdown",
   "metadata": {},
   "source": [
    "python Libraries\n",
    " -Scientific Computing\n",
    "    >Pandas : Data Structures & Tools ~ Data manipulation & Analytics\n",
    "    >NumPy : Arrays & Matrices ~ all for data processing (can be used on obj\n",
    "    >SciPy : Integrals, Differentaial Equations, Optimization\n",
    "    \n",
    "-Visualization Libraries\n",
    "    >MatPlotLib : Plots and graphs\n",
    "    >Seaborn : plots: heatmaps, time series, violin plots)\n",
    "\n",
    "-Algorithmic Libraries (machine learning)\n",
    "    >scikit learn : statistical madeling, regression, classification, etc\n",
    "    >Statisical Models : explore data, estimate statistical models and perfrom tests.\n"
   ]
  },
  {
   "cell_type": "markdown",
   "metadata": {},
   "source": [
    "Data Types                      Pandas              Python\n",
    "numbers and strings             object              string\n",
    "numeric characters              int64               int\n",
    "numeric characters w/decimal    float64             float\n",
    "time data                       datetime64          datetime module\n",
    "                                time delta[ns]"
   ]
  },
  {
   "cell_type": "code",
   "execution_count": null,
   "metadata": {},
   "outputs": [],
   "source": [
    "from matplotlib import pyplot as plt\n",
    "import seaborn as sns\n"
   ]
  },
  {
   "cell_type": "markdown",
   "metadata": {},
   "source": [
    "Module 2"
   ]
  },
  {
   "cell_type": "markdown",
   "metadata": {},
   "source": [
    "Manipulating Data Frames\n",
    "\n",
    "df['rawheader'] = df['rawheader'] +1\n",
    "\n",
    "missing  values\n",
    "    replace it with the average/mode if possible\n",
    "    drop the value/missing value;     df.dropna()\n",
    "    "
   ]
  },
  {
   "cell_type": "code",
   "execution_count": null,
   "metadata": {},
   "outputs": [],
   "source": [
    "df.dropna(subset = ['price'], axis=0)  #drop row\n",
    "\n",
    "df.dropna(subset = ['price'], axis=1)  #drop column\n",
    "\n",
    "df.dropna(subset = ['price'], axis=0), inplace = True  #acts directly on data set"
   ]
  },
  {
   "cell_type": "code",
   "execution_count": null,
   "metadata": {},
   "outputs": [],
   "source": [
    "#replace w/ new value\n",
    "\n",
    "df.replace(missing_value, new_value)\n",
    "mean = df['co_name'].mean()\n",
    "df['col_name'].replace(np.nan, mean)"
   ]
  },
  {
   "cell_type": "code",
   "execution_count": null,
   "metadata": {},
   "outputs": [],
   "source": [
    "#DATA FORMATING\n",
    "\n",
    "    #unit conversion\n",
    "    df['miles'] = 235/ df['miles']\n",
    "    df.rename(columns = { 'city_mpg' : 'city_L/100km'}, inplace=True)\n",
    "\n",
    "    #correct data type\n",
    "    df.astype()\n",
    "df['col_name'] = df['price'].astype('int')\n",
    "\n",
    "\n",
    "#NORMALIZATION\n",
    "\n",
    "    #simple feature scaling\n",
    "        ##new value = old value divided by max value\n",
    "    df['col_name'] = df['col_name'] = df['col_name'] / df['col_name'].max()\n",
    "\n",
    "    #min-max\n",
    "        ##new value = old value - min value divided by max value minus min value\n",
    "    df['col_name'] = (df['col_name'] - df['len'].mean()) / df['col_name'].std()\n",
    "\n",
    "\n",
    "    #zscore\n",
    "        ##new value = old value minus average divided by standard deviation\n",
    "\n"
   ]
  },
  {
   "cell_type": "markdown",
   "metadata": {},
   "source": [
    "BINNING\n",
    "\n",
    "create n number of grups of low, med, high, etc"
   ]
  },
  {
   "cell_type": "code",
   "execution_count": null,
   "metadata": {},
   "outputs": [],
   "source": [
    "bins = np.linspace(min(df['col_name'], max(df['col_name']), 4))\n",
    "df['col_binned'] = pd.cut(df['col'], bins, labels = 'group_names', include_lowest = True)"
   ]
  },
  {
   "cell_type": "markdown",
   "metadata": {},
   "source": []
  }
 ],
 "metadata": {
  "language_info": {
   "name": "python"
  }
 },
 "nbformat": 4,
 "nbformat_minor": 2
}
