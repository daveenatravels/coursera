{
 "cells": [
  {
   "cell_type": "markdown",
   "metadata": {},
   "source": [
    "Module 1"
   ]
  },
  {
   "cell_type": "markdown",
   "metadata": {},
   "source": [
    "python Libraries\n",
    " -Scientific Computing\n",
    "    >Pandas : Data Structures & Tools ~ Data manipulation & Analytics\n",
    "    >NumPy : Arrays & Matrices ~ all for data processing (can be used on obj\n",
    "    >SciPy : Integrals, Differentaial Equations, Optimization\n",
    "    \n",
    "-Visualization Libraries\n",
    "    >MatPlotLib : Plots and graphs\n",
    "    >Seaborn : plots: heatmaps, time series, violin plots)\n",
    "\n",
    "-Algorithmic Libraries (machine learning)\n",
    "    >scikit learn : statistical madeling, regression, classification, etc\n",
    "    >Statisical Models : explore data, estimate statistical models and perfrom tests.\n"
   ]
  },
  {
   "cell_type": "markdown",
   "metadata": {},
   "source": [
    "Data Types                      Pandas              Python\n",
    "numbers and strings             object              string\n",
    "numeric characters              int64               int\n",
    "numeric characters w/decimal    float64             float\n",
    "time data                       datetime64          datetime module\n",
    "                                time delta[ns]"
   ]
  },
  {
   "cell_type": "markdown",
   "metadata": {},
   "source": [
    "Manipulating Data Frames\n",
    "\n",
    "df['rawheader'] = df['rawheader'] +1\n",
    "\n",
    "missing  values\n",
    "    replace it with the average/mode if possible\n",
    "    drop the value/missing value;     df.dropna()\n",
    "    "
   ]
  },
  {
   "cell_type": "code",
   "execution_count": null,
   "metadata": {},
   "outputs": [],
   "source": [
    "df.dropna(subset = ['price'], axis=0)  #drop row\n",
    "\n",
    "df.dropna(subset = ['price'], axis=1)  #drop column\n",
    "\n",
    "df.dropna(subset = ['price'], axis=0), inplace = True  #acts directly on data set"
   ]
  }
 ],
 "metadata": {
  "language_info": {
   "name": "python"
  }
 },
 "nbformat": 4,
 "nbformat_minor": 2
}
